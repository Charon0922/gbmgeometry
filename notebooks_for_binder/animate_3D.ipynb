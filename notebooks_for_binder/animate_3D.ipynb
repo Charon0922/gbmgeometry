{
 "cells": [
  {
   "cell_type": "code",
   "execution_count": null,
   "id": "f4451153",
   "metadata": {},
   "outputs": [],
   "source": [
    "from gbmgeometry import PositionInterpolator\n",
    "from gbmgeometry.utils.package_utils import get_path_of_data_file\n",
    "\n",
    "posthist_file = get_path_of_data_file('glg_poshist_all_151013_v00.fit')\n",
    "\n",
    "pi = PositionInterpolator.from_poshist(posthist_file)"
   ]
  },
  {
   "cell_type": "markdown",
   "id": "c857c01f",
   "metadata": {},
   "source": [
    "## Plotting\n",
    "We will do the fun stuff first. As the **PositionInterpolator** contains a lot of information about where Fermi is, we can use it to plot where the spacecraft is relative to Earth.\n",
    "\n"
   ]
  },
  {
   "cell_type": "markdown",
   "id": "627f2da4",
   "metadata": {},
   "source": [
    "### Static"
   ]
  },
  {
   "cell_type": "code",
   "execution_count": null,
   "id": "66478dd4",
   "metadata": {},
   "outputs": [],
   "source": [
    "from gbmgeometry import plot_in_space\n",
    "\n",
    "# get the min and max time store in the file\n",
    "tmin, tmax = pi.minmax_time()\n",
    "\n",
    "plot_in_space(pi, tmin+1500);"
   ]
  },
  {
   "cell_type": "markdown",
   "id": "feb9b2d5",
   "metadata": {},
   "source": [
    "Cool. But where are the detectors pointing?"
   ]
  },
  {
   "cell_type": "code",
   "execution_count": null,
   "id": "21cac05e",
   "metadata": {},
   "outputs": [],
   "source": [
    "plot_in_space(pi, tmin+2000, show_detector_pointing=True, show_orbit=False, earth_time='day');"
   ]
  },
  {
   "cell_type": "markdown",
   "id": "9d3c84d5",
   "metadata": {},
   "source": [
    "Where is the moon? \n",
    "\n",
    "**That's no moon.**"
   ]
  },
  {
   "cell_type": "code",
   "execution_count": null,
   "id": "cb4de8cb",
   "metadata": {},
   "outputs": [],
   "source": [
    "plot_in_space(pi, tmin, show_detector_pointing=True,\n",
    "              show_moon=True, \n",
    "              earth_time='midnight',\n",
    "              show_orbit=False);"
   ]
  },
  {
   "cell_type": "markdown",
   "id": "44ad468d",
   "metadata": {},
   "source": [
    "Yes, yes, you can also show the Sun... but it is not very useful at the moment."
   ]
  },
  {
   "cell_type": "markdown",
   "id": "068bc286",
   "metadata": {},
   "source": [
    "### Animation\n",
    "\n",
    "Let's go crazy and watch Fermi orbit"
   ]
  },
  {
   "cell_type": "code",
   "execution_count": null,
   "id": "2833dc24",
   "metadata": {},
   "outputs": [],
   "source": [
    "from gbmgeometry import animate_in_space\n",
    "animate_in_space(pi,\n",
    "                 n_step=200,\n",
    "                 interval=1100,\n",
    "                 show_stars=True, show_detector_pointing=True, realistic=True, earth_time='day');"
   ]
  }
 ],
 "metadata": {
  "jupytext": {
   "formats": "ipynb,md",
   "text_representation": {
    "extension": ".md",
    "format_name": "markdown",
    "format_version": "1.2",
    "jupytext_version": "1.8.0"
   }
  },
  "kernelspec": {
   "display_name": "Python 3",
   "language": "python",
   "name": "python3"
  },
  "language_info": {
   "codemirror_mode": {
    "name": "ipython",
    "version": 3
   },
   "file_extension": ".py",
   "mimetype": "text/x-python",
   "name": "python",
   "nbconvert_exporter": "python",
   "pygments_lexer": "ipython3",
   "version": "3.9.6"
  }
 },
 "nbformat": 4,
 "nbformat_minor": 5
}
